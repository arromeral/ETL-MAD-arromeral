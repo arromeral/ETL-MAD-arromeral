{
 "cells": [
  {
   "cell_type": "markdown",
   "id": "3d28d5d9",
   "metadata": {},
   "source": [
    "# EXTRACCIÓN DE VUELOS"
   ]
  },
  {
   "cell_type": "markdown",
   "id": "d321fea8",
   "metadata": {},
   "source": [
    "## En este Notebook se va a desarrollar el proceso de extracción de todos los vuelos salientes del *Aeropuerto Adolfo Suárez Madrid-Barajas* en el periodo comprendido entre el 01-11-2022 y el 31-10-2023, es decir, 1 año completo.\n",
    "\n",
    "## Para ello se va a utilizar la técnica de extracción de datos \"webscrapping\" sobre la web [flightera](https://www.flightera.net/en/airport/Madrid/LEMD/departure) que mantiene registros de vuelos desde al menos el año 2017."
   ]
  },
  {
   "cell_type": "markdown",
   "id": "43791a0e",
   "metadata": {},
   "source": [
    "### Las librerías que se van a emplear principalmente para el proceso son:\n",
    "- **selenium** \n",
    "- **pandas** "
   ]
  },
  {
   "cell_type": "code",
   "execution_count": 1,
   "id": "bb6a426e",
   "metadata": {},
   "outputs": [],
   "source": [
    "from selenium import webdriver\n",
    "from selenium.webdriver.common.by import By\n",
    "from selenium.webdriver.chrome.service import Service\n",
    "from selenium.webdriver.common.keys import Keys\n",
    "from selenium.webdriver.chrome.options import Options\n",
    "from datetime import datetime, timedelta\n",
    "import pandas as pd"
   ]
  },
  {
   "cell_type": "code",
   "execution_count": 2,
   "id": "aa1612ca",
   "metadata": {},
   "outputs": [],
   "source": [
    "import time\n",
    "import numpy as np\n",
    "import pylab as plt   \n",
    "import seaborn as sns\n"
   ]
  },
  {
   "cell_type": "markdown",
   "id": "8a66becd",
   "metadata": {},
   "source": [
    "## Para evitar problemas en el proceso de extracción se van a activar las opciones de **adblock** (previa descarga del driver correspondiente) y de las **cockies**."
   ]
  },
  {
   "cell_type": "code",
   "execution_count": 3,
   "id": "70eea95a",
   "metadata": {},
   "outputs": [],
   "source": [
    "# Options\n",
    "opciones=Options()\n",
    "\n",
    "opciones.add_extension('drivers/adblock.crx')       # adblocker\n",
    "opciones.add_argument('cookies=cookies')    # man\n",
    "\n"
   ]
  },
  {
   "cell_type": "markdown",
   "id": "3ea1b4a3",
   "metadata": {},
   "source": [
    "## Colocamos el driver en la prímera página que queremos *scrappear*, la correspondiente a las últimas horas de 31-10-2023"
   ]
  },
  {
   "cell_type": "code",
   "execution_count": 4,
   "id": "2631e1e2",
   "metadata": {},
   "outputs": [],
   "source": [
    "driver = webdriver.Chrome(options = opciones)\n",
    "url = 'https://www.flightera.net/en/airport/Madrid/LEMD/departure/2023-10-31%2023_00?'\n",
    "driver.get(url)\n"
   ]
  },
  {
   "cell_type": "markdown",
   "id": "2c9c083b",
   "metadata": {},
   "source": [
    "## Clickamos sobre el botón de aceptar las coockies que aparece al cargar la página"
   ]
  },
  {
   "cell_type": "code",
   "execution_count": 6,
   "id": "755dab84",
   "metadata": {},
   "outputs": [],
   "source": [
    "#aceptar = driver.\n",
    "aceptar = driver.find_element(By.XPATH,'//*[@id=\"qc-cmp2-ui\"]/div[2]/div/button[2]')\n",
    "aceptar.click()\n"
   ]
  },
  {
   "cell_type": "markdown",
   "id": "9bdaffdf",
   "metadata": {},
   "source": [
    "## Empezamos a almacenar los datos correspondientes de la primera página sobre una tabla que llamamos *flights*.\n",
    "\n",
    "### Esta web presenta unos 35 registros de vuelos por cada página."
   ]
  },
  {
   "cell_type": "code",
   "execution_count": 132,
   "id": "25e36a56",
   "metadata": {},
   "outputs": [],
   "source": [
    "flights = [flight.text.split('\\n') for flight in driver.find_elements(By.XPATH, '//table//tbody//tr')[1:]]"
   ]
  },
  {
   "cell_type": "markdown",
   "id": "84c77065",
   "metadata": {},
   "source": [
    "## Clickamos sobre el boton de *Earlier Flights* que aparece en la página para cargar los siguientes 35 vuelos."
   ]
  },
  {
   "cell_type": "code",
   "execution_count": 7,
   "id": "992f2fa5",
   "metadata": {},
   "outputs": [],
   "source": [
    "aceptar = driver.find_element(By.XPATH,'/html/body/div[3]/main/div[6]/div[1]')\n",
    "aceptar.click()"
   ]
  },
  {
   "cell_type": "markdown",
   "id": "0fc0b86e",
   "metadata": {},
   "source": [
    "## Aparece un nuevo *pop up* para hacer donaciones a la web, por lo que clickamos sobre el boton *\"Continue without supporting us\"*"
   ]
  },
  {
   "cell_type": "code",
   "execution_count": 8,
   "id": "5d7ad5bb",
   "metadata": {},
   "outputs": [],
   "source": [
    "aceptar2 = driver.find_element(By.XPATH,'/html/body/div[8]/div/div/div/div/div/div[3]/span[1]/button')\n",
    "aceptar2.click()"
   ]
  },
  {
   "cell_type": "markdown",
   "id": "819605b1",
   "metadata": {},
   "source": [
    "# Una vez estudiada la dinámica de la web, se hace un cálculo del número de nuevas páginas que va a haber que abrir en base al promedio de salidas diarias del aeropuerto de Barajas (en este se opta por 7000, que cubrirá los registros necesarios con algo de holgura).\n",
    "\n",
    "## Además, puesto que el *scrappeo* se hace visual, se podrá interrumpir el bucle una vez se observe que hemos pasado el día 01-11-2022\n",
    "\n",
    "## El bucle copiará los registros de cada página en la tabla *flights* y a continuación hara *click* en el botón de \"Earlier Flights\"\n",
    "\n",
    "## Se ha observado tambien, que el pop up de donaciones aparece periódicamente, por lo que se introduce in bloque *try -except* en el bucle para que en caso de aparecer, clicke de nuevo sobre el botón\n",
    "\n"
   ]
  },
  {
   "cell_type": "code",
   "execution_count": 160,
   "id": "04025c1b",
   "metadata": {},
   "outputs": [
    {
     "ename": "NoSuchElementException",
     "evalue": "Message: no such element: Unable to locate element: {\"method\":\"xpath\",\"selector\":\"/html/body/div[8]/div/div/div/div/div/div[3]/span[1]/button\"}\n  (Session info: chrome=119.0.6045.106); For documentation on this error, please visit: https://www.selenium.dev/documentation/webdriver/troubleshooting/errors#no-such-element-exception\nStacktrace:\n\tGetHandleVerifier [0x00007FF77FAA82B2+55298]\n\t(No symbol) [0x00007FF77FA15E02]\n\t(No symbol) [0x00007FF77F8D05AB]\n\t(No symbol) [0x00007FF77F91175C]\n\t(No symbol) [0x00007FF77F9118DC]\n\t(No symbol) [0x00007FF77F94CBC7]\n\t(No symbol) [0x00007FF77F9320EF]\n\t(No symbol) [0x00007FF77F94AAA4]\n\t(No symbol) [0x00007FF77F931E83]\n\t(No symbol) [0x00007FF77F90670A]\n\t(No symbol) [0x00007FF77F907964]\n\tGetHandleVerifier [0x00007FF77FE20AAB+3694587]\n\tGetHandleVerifier [0x00007FF77FE7728E+4048862]\n\tGetHandleVerifier [0x00007FF77FE6F173+4015811]\n\tGetHandleVerifier [0x00007FF77FB447D6+695590]\n\t(No symbol) [0x00007FF77FA20CE8]\n\t(No symbol) [0x00007FF77FA1CF34]\n\t(No symbol) [0x00007FF77FA1D062]\n\t(No symbol) [0x00007FF77FA0D3A3]\n\tBaseThreadInitThunk [0x00007FF8BAA0257D+29]\n\tRtlUserThreadStart [0x00007FF8BC00AA78+40]\n",
     "output_type": "error",
     "traceback": [
      "\u001b[1;31m---------------------------------------------------------------------------\u001b[0m",
      "\u001b[1;31mStaleElementReferenceException\u001b[0m            Traceback (most recent call last)",
      "Cell \u001b[1;32mIn[160], line 6\u001b[0m\n\u001b[0;32m      5\u001b[0m \u001b[38;5;28;01mtry\u001b[39;00m:\n\u001b[1;32m----> 6\u001b[0m     flights \u001b[38;5;241m+\u001b[39m\u001b[38;5;241m=\u001b[39m [flight\u001b[38;5;241m.\u001b[39mtext\u001b[38;5;241m.\u001b[39msplit(\u001b[38;5;124m'\u001b[39m\u001b[38;5;130;01m\\n\u001b[39;00m\u001b[38;5;124m'\u001b[39m) \u001b[38;5;28;01mfor\u001b[39;00m flight \u001b[38;5;129;01min\u001b[39;00m driver\u001b[38;5;241m.\u001b[39mfind_elements(By\u001b[38;5;241m.\u001b[39mXPATH, \u001b[38;5;124m'\u001b[39m\u001b[38;5;124m//table//tbody//tr\u001b[39m\u001b[38;5;124m'\u001b[39m)[\u001b[38;5;241m1\u001b[39m:]]\n\u001b[0;32m      8\u001b[0m     aceptar \u001b[38;5;241m=\u001b[39m driver\u001b[38;5;241m.\u001b[39mfind_element(By\u001b[38;5;241m.\u001b[39mXPATH,\u001b[38;5;124m'\u001b[39m\u001b[38;5;124m/html/body/div[2]/main/div[6]/div[1]/a\u001b[39m\u001b[38;5;124m'\u001b[39m)\n",
      "Cell \u001b[1;32mIn[160], line 6\u001b[0m, in \u001b[0;36m<listcomp>\u001b[1;34m(.0)\u001b[0m\n\u001b[0;32m      5\u001b[0m \u001b[38;5;28;01mtry\u001b[39;00m:\n\u001b[1;32m----> 6\u001b[0m     flights \u001b[38;5;241m+\u001b[39m\u001b[38;5;241m=\u001b[39m [flight\u001b[38;5;241m.\u001b[39mtext\u001b[38;5;241m.\u001b[39msplit(\u001b[38;5;124m'\u001b[39m\u001b[38;5;130;01m\\n\u001b[39;00m\u001b[38;5;124m'\u001b[39m) \u001b[38;5;28;01mfor\u001b[39;00m flight \u001b[38;5;129;01min\u001b[39;00m driver\u001b[38;5;241m.\u001b[39mfind_elements(By\u001b[38;5;241m.\u001b[39mXPATH, \u001b[38;5;124m'\u001b[39m\u001b[38;5;124m//table//tbody//tr\u001b[39m\u001b[38;5;124m'\u001b[39m)[\u001b[38;5;241m1\u001b[39m:]]\n\u001b[0;32m      8\u001b[0m     aceptar \u001b[38;5;241m=\u001b[39m driver\u001b[38;5;241m.\u001b[39mfind_element(By\u001b[38;5;241m.\u001b[39mXPATH,\u001b[38;5;124m'\u001b[39m\u001b[38;5;124m/html/body/div[2]/main/div[6]/div[1]/a\u001b[39m\u001b[38;5;124m'\u001b[39m)\n",
      "File \u001b[1;32m~\\anaconda3\\Lib\\site-packages\\selenium\\webdriver\\remote\\webelement.py:89\u001b[0m, in \u001b[0;36mWebElement.text\u001b[1;34m(self)\u001b[0m\n\u001b[0;32m     88\u001b[0m \u001b[38;5;250m\u001b[39m\u001b[38;5;124;03m\"\"\"The text of the element.\"\"\"\u001b[39;00m\n\u001b[1;32m---> 89\u001b[0m \u001b[38;5;28;01mreturn\u001b[39;00m \u001b[38;5;28mself\u001b[39m\u001b[38;5;241m.\u001b[39m_execute(Command\u001b[38;5;241m.\u001b[39mGET_ELEMENT_TEXT)[\u001b[38;5;124m\"\u001b[39m\u001b[38;5;124mvalue\u001b[39m\u001b[38;5;124m\"\u001b[39m]\n",
      "File \u001b[1;32m~\\anaconda3\\Lib\\site-packages\\selenium\\webdriver\\remote\\webelement.py:394\u001b[0m, in \u001b[0;36mWebElement._execute\u001b[1;34m(self, command, params)\u001b[0m\n\u001b[0;32m    393\u001b[0m params[\u001b[38;5;124m\"\u001b[39m\u001b[38;5;124mid\u001b[39m\u001b[38;5;124m\"\u001b[39m] \u001b[38;5;241m=\u001b[39m \u001b[38;5;28mself\u001b[39m\u001b[38;5;241m.\u001b[39m_id\n\u001b[1;32m--> 394\u001b[0m \u001b[38;5;28;01mreturn\u001b[39;00m \u001b[38;5;28mself\u001b[39m\u001b[38;5;241m.\u001b[39m_parent\u001b[38;5;241m.\u001b[39mexecute(command, params)\n",
      "File \u001b[1;32m~\\anaconda3\\Lib\\site-packages\\selenium\\webdriver\\remote\\webdriver.py:344\u001b[0m, in \u001b[0;36mWebDriver.execute\u001b[1;34m(self, driver_command, params)\u001b[0m\n\u001b[0;32m    343\u001b[0m \u001b[38;5;28;01mif\u001b[39;00m response:\n\u001b[1;32m--> 344\u001b[0m     \u001b[38;5;28mself\u001b[39m\u001b[38;5;241m.\u001b[39merror_handler\u001b[38;5;241m.\u001b[39mcheck_response(response)\n\u001b[0;32m    345\u001b[0m     response[\u001b[38;5;124m\"\u001b[39m\u001b[38;5;124mvalue\u001b[39m\u001b[38;5;124m\"\u001b[39m] \u001b[38;5;241m=\u001b[39m \u001b[38;5;28mself\u001b[39m\u001b[38;5;241m.\u001b[39m_unwrap_value(response\u001b[38;5;241m.\u001b[39mget(\u001b[38;5;124m\"\u001b[39m\u001b[38;5;124mvalue\u001b[39m\u001b[38;5;124m\"\u001b[39m, \u001b[38;5;28;01mNone\u001b[39;00m))\n",
      "File \u001b[1;32m~\\anaconda3\\Lib\\site-packages\\selenium\\webdriver\\remote\\errorhandler.py:229\u001b[0m, in \u001b[0;36mErrorHandler.check_response\u001b[1;34m(self, response)\u001b[0m\n\u001b[0;32m    228\u001b[0m     \u001b[38;5;28;01mraise\u001b[39;00m exception_class(message, screen, stacktrace, alert_text)  \u001b[38;5;66;03m# type: ignore[call-arg]  # mypy is not smart enough here\u001b[39;00m\n\u001b[1;32m--> 229\u001b[0m \u001b[38;5;28;01mraise\u001b[39;00m exception_class(message, screen, stacktrace)\n",
      "\u001b[1;31mStaleElementReferenceException\u001b[0m: Message: stale element reference: stale element not found\n  (Session info: chrome=119.0.6045.106); For documentation on this error, please visit: https://www.selenium.dev/documentation/webdriver/troubleshooting/errors#stale-element-reference-exception\nStacktrace:\n\tGetHandleVerifier [0x00007FF77FAA82B2+55298]\n\t(No symbol) [0x00007FF77FA15E02]\n\t(No symbol) [0x00007FF77F8D05AB]\n\t(No symbol) [0x00007FF77F8DE59A]\n\t(No symbol) [0x00007FF77F8D59E9]\n\t(No symbol) [0x00007FF77F8D4298]\n\t(No symbol) [0x00007FF77F8D6FDF]\n\t(No symbol) [0x00007FF77F8D70D0]\n\t(No symbol) [0x00007FF77F90CDFE]\n\t(No symbol) [0x00007FF77F9320AA]\n\t(No symbol) [0x00007FF77F9080CF]\n\t(No symbol) [0x00007FF77F9322C0]\n\t(No symbol) [0x00007FF77F94AAA4]\n\t(No symbol) [0x00007FF77F931E83]\n\t(No symbol) [0x00007FF77F90670A]\n\t(No symbol) [0x00007FF77F907964]\n\tGetHandleVerifier [0x00007FF77FE20AAB+3694587]\n\tGetHandleVerifier [0x00007FF77FE7728E+4048862]\n\tGetHandleVerifier [0x00007FF77FE6F173+4015811]\n\tGetHandleVerifier [0x00007FF77FB447D6+695590]\n\t(No symbol) [0x00007FF77FA20CE8]\n\t(No symbol) [0x00007FF77FA1CF34]\n\t(No symbol) [0x00007FF77FA1D062]\n\t(No symbol) [0x00007FF77FA0D3A3]\n\tBaseThreadInitThunk [0x00007FF8BAA0257D+29]\n\tRtlUserThreadStart [0x00007FF8BC00AA78+40]\n",
      "\nDuring handling of the above exception, another exception occurred:\n",
      "\u001b[1;31mNoSuchElementException\u001b[0m                    Traceback (most recent call last)",
      "Cell \u001b[1;32mIn[160], line 11\u001b[0m\n\u001b[0;32m      9\u001b[0m     aceptar\u001b[38;5;241m.\u001b[39mclick()\n\u001b[0;32m     10\u001b[0m \u001b[38;5;28;01mexcept\u001b[39;00m:\n\u001b[1;32m---> 11\u001b[0m     aceptar2 \u001b[38;5;241m=\u001b[39m driver\u001b[38;5;241m.\u001b[39mfind_element(By\u001b[38;5;241m.\u001b[39mXPATH,\u001b[38;5;124m'\u001b[39m\u001b[38;5;124m/html/body/div[8]/div/div/div/div/div/div[3]/span[1]/button\u001b[39m\u001b[38;5;124m'\u001b[39m)\n\u001b[0;32m     12\u001b[0m     aceptar2\u001b[38;5;241m.\u001b[39mclick()\n",
      "File \u001b[1;32m~\\anaconda3\\Lib\\site-packages\\selenium\\webdriver\\remote\\webdriver.py:738\u001b[0m, in \u001b[0;36mWebDriver.find_element\u001b[1;34m(self, by, value)\u001b[0m\n\u001b[0;32m    735\u001b[0m     by \u001b[38;5;241m=\u001b[39m By\u001b[38;5;241m.\u001b[39mCSS_SELECTOR\n\u001b[0;32m    736\u001b[0m     value \u001b[38;5;241m=\u001b[39m \u001b[38;5;124mf\u001b[39m\u001b[38;5;124m'\u001b[39m\u001b[38;5;124m[name=\u001b[39m\u001b[38;5;124m\"\u001b[39m\u001b[38;5;132;01m{\u001b[39;00mvalue\u001b[38;5;132;01m}\u001b[39;00m\u001b[38;5;124m\"\u001b[39m\u001b[38;5;124m]\u001b[39m\u001b[38;5;124m'\u001b[39m\n\u001b[1;32m--> 738\u001b[0m \u001b[38;5;28;01mreturn\u001b[39;00m \u001b[38;5;28mself\u001b[39m\u001b[38;5;241m.\u001b[39mexecute(Command\u001b[38;5;241m.\u001b[39mFIND_ELEMENT, {\u001b[38;5;124m\"\u001b[39m\u001b[38;5;124musing\u001b[39m\u001b[38;5;124m\"\u001b[39m: by, \u001b[38;5;124m\"\u001b[39m\u001b[38;5;124mvalue\u001b[39m\u001b[38;5;124m\"\u001b[39m: value})[\u001b[38;5;124m\"\u001b[39m\u001b[38;5;124mvalue\u001b[39m\u001b[38;5;124m\"\u001b[39m]\n",
      "File \u001b[1;32m~\\anaconda3\\Lib\\site-packages\\selenium\\webdriver\\remote\\webdriver.py:344\u001b[0m, in \u001b[0;36mWebDriver.execute\u001b[1;34m(self, driver_command, params)\u001b[0m\n\u001b[0;32m    342\u001b[0m response \u001b[38;5;241m=\u001b[39m \u001b[38;5;28mself\u001b[39m\u001b[38;5;241m.\u001b[39mcommand_executor\u001b[38;5;241m.\u001b[39mexecute(driver_command, params)\n\u001b[0;32m    343\u001b[0m \u001b[38;5;28;01mif\u001b[39;00m response:\n\u001b[1;32m--> 344\u001b[0m     \u001b[38;5;28mself\u001b[39m\u001b[38;5;241m.\u001b[39merror_handler\u001b[38;5;241m.\u001b[39mcheck_response(response)\n\u001b[0;32m    345\u001b[0m     response[\u001b[38;5;124m\"\u001b[39m\u001b[38;5;124mvalue\u001b[39m\u001b[38;5;124m\"\u001b[39m] \u001b[38;5;241m=\u001b[39m \u001b[38;5;28mself\u001b[39m\u001b[38;5;241m.\u001b[39m_unwrap_value(response\u001b[38;5;241m.\u001b[39mget(\u001b[38;5;124m\"\u001b[39m\u001b[38;5;124mvalue\u001b[39m\u001b[38;5;124m\"\u001b[39m, \u001b[38;5;28;01mNone\u001b[39;00m))\n\u001b[0;32m    346\u001b[0m     \u001b[38;5;28;01mreturn\u001b[39;00m response\n",
      "File \u001b[1;32m~\\anaconda3\\Lib\\site-packages\\selenium\\webdriver\\remote\\errorhandler.py:229\u001b[0m, in \u001b[0;36mErrorHandler.check_response\u001b[1;34m(self, response)\u001b[0m\n\u001b[0;32m    227\u001b[0m         alert_text \u001b[38;5;241m=\u001b[39m value[\u001b[38;5;124m\"\u001b[39m\u001b[38;5;124malert\u001b[39m\u001b[38;5;124m\"\u001b[39m]\u001b[38;5;241m.\u001b[39mget(\u001b[38;5;124m\"\u001b[39m\u001b[38;5;124mtext\u001b[39m\u001b[38;5;124m\"\u001b[39m)\n\u001b[0;32m    228\u001b[0m     \u001b[38;5;28;01mraise\u001b[39;00m exception_class(message, screen, stacktrace, alert_text)  \u001b[38;5;66;03m# type: ignore[call-arg]  # mypy is not smart enough here\u001b[39;00m\n\u001b[1;32m--> 229\u001b[0m \u001b[38;5;28;01mraise\u001b[39;00m exception_class(message, screen, stacktrace)\n",
      "\u001b[1;31mNoSuchElementException\u001b[0m: Message: no such element: Unable to locate element: {\"method\":\"xpath\",\"selector\":\"/html/body/div[8]/div/div/div/div/div/div[3]/span[1]/button\"}\n  (Session info: chrome=119.0.6045.106); For documentation on this error, please visit: https://www.selenium.dev/documentation/webdriver/troubleshooting/errors#no-such-element-exception\nStacktrace:\n\tGetHandleVerifier [0x00007FF77FAA82B2+55298]\n\t(No symbol) [0x00007FF77FA15E02]\n\t(No symbol) [0x00007FF77F8D05AB]\n\t(No symbol) [0x00007FF77F91175C]\n\t(No symbol) [0x00007FF77F9118DC]\n\t(No symbol) [0x00007FF77F94CBC7]\n\t(No symbol) [0x00007FF77F9320EF]\n\t(No symbol) [0x00007FF77F94AAA4]\n\t(No symbol) [0x00007FF77F931E83]\n\t(No symbol) [0x00007FF77F90670A]\n\t(No symbol) [0x00007FF77F907964]\n\tGetHandleVerifier [0x00007FF77FE20AAB+3694587]\n\tGetHandleVerifier [0x00007FF77FE7728E+4048862]\n\tGetHandleVerifier [0x00007FF77FE6F173+4015811]\n\tGetHandleVerifier [0x00007FF77FB447D6+695590]\n\t(No symbol) [0x00007FF77FA20CE8]\n\t(No symbol) [0x00007FF77FA1CF34]\n\t(No symbol) [0x00007FF77FA1D062]\n\t(No symbol) [0x00007FF77FA0D3A3]\n\tBaseThreadInitThunk [0x00007FF8BAA0257D+29]\n\tRtlUserThreadStart [0x00007FF8BC00AA78+40]\n"
     ]
    }
   ],
   "source": [
    "\n",
    "for i in range(7000):\n",
    "    try:\n",
    "        flights += [flight.text.split('\\n') for flight in driver.find_elements(By.XPATH, '//table//tbody//tr')[1:]]\n",
    "\n",
    "        aceptar = driver.find_element(By.XPATH,'/html/body/div[2]/main/div[6]/div[1]/a')\n",
    "        aceptar.click()\n",
    "        \n",
    "    except:\n",
    "        aceptar2 = driver.find_element(By.XPATH,'/html/body/div[8]/div/div/div/div/div/div[3]/span[1]/button')\n",
    "        aceptar2.click()\n",
    "        \n",
    "    \n",
    "\n",
    "\n",
    "\n"
   ]
  },
  {
   "cell_type": "markdown",
   "id": "e9cf75a4",
   "metadata": {},
   "source": [
    "## Una vez finalizado el *scrappeo* se comprueba el númos de filas recogidas, en este caso *223405 filas*."
   ]
  },
  {
   "cell_type": "code",
   "execution_count": 172,
   "id": "1b6f1348",
   "metadata": {},
   "outputs": [
    {
     "data": {
      "text/plain": [
       "223405"
      ]
     },
     "execution_count": 172,
     "metadata": {},
     "output_type": "execute_result"
    }
   ],
   "source": [
    "len(flights)"
   ]
  },
  {
   "cell_type": "markdown",
   "id": "96d94dbd",
   "metadata": {},
   "source": [
    "# Se estudia el número de elementos(columnas) recogidas en cada registro y se genera un DataFrame con los datos en crudo, y nombres de columnas provisionales, para tener una base para la posterior limpieza."
   ]
  },
  {
   "cell_type": "code",
   "execution_count": 163,
   "id": "70fa7e96",
   "metadata": {},
   "outputs": [],
   "source": [
    "pd.set_option('display.max_rows', None)\n",
    "columns =[\"bad_date\",\"1\", \"status\",\"cod_flight\",\"airliner\", \"destiny\", \"depart\",\"delay_d\",\"8\",\"arrival\",\"delay_a\",\"duration\",\"12\"]"
   ]
  },
  {
   "cell_type": "code",
   "execution_count": 165,
   "id": "667839f1",
   "metadata": {},
   "outputs": [],
   "source": [
    "flights = pd.DataFrame(flights, columns=columns)\n",
    "flights_ori = flights"
   ]
  },
  {
   "cell_type": "markdown",
   "id": "71641167",
   "metadata": {},
   "source": [
    "## Guardamos los datos en crudo en un archivo *.csv*"
   ]
  },
  {
   "cell_type": "code",
   "execution_count": 180,
   "id": "bd1f5d20",
   "metadata": {},
   "outputs": [],
   "source": [
    "flights.to_csv(\"../data/flights/raw_flights.csv\", index=False)"
   ]
  }
 ],
 "metadata": {
  "kernelspec": {
   "display_name": "Python 3 (ipykernel)",
   "language": "python",
   "name": "python3"
  },
  "language_info": {
   "codemirror_mode": {
    "name": "ipython",
    "version": 3
   },
   "file_extension": ".py",
   "mimetype": "text/x-python",
   "name": "python",
   "nbconvert_exporter": "python",
   "pygments_lexer": "ipython3",
   "version": "3.11.4"
  }
 },
 "nbformat": 4,
 "nbformat_minor": 5
}
