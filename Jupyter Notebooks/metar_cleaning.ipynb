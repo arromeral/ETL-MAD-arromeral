{
 "cells": [
  {
   "cell_type": "markdown",
   "id": "61b6ed59",
   "metadata": {},
   "source": [
    "# LIMPIEZA DEL DATAFRAME DE METARS"
   ]
  },
  {
   "cell_type": "markdown",
   "id": "d19b2639",
   "metadata": {},
   "source": [
    "## En este Notebook se va a realizar la limpieza de los partes METAR obtenidos anteriormente. El resultado final de la limpieza es un DataFrame con las siguientes columnas:\n",
    "\n",
    "- **Metar_id**: Columna con un id único para cada parte Metar, para poder relacionarlo posteriormente con los vuelos.\n",
    "- **Date_time**: Columna en formato *Datetime* con la fecha y la hora de emisión del parte.\n",
    "- **Day**: Columna con el día en el que se emitió el parte en formato YYYY-MM-DD.\n",
    "- **Hour**: Hora en la que se emitió el parte en formato HH:MM.\n",
    "- **Condition**: Condición meteorológica del parte.\n",
    "- **Temperature**: Temperatura en grados Celsius [º].\n",
    "- **Wind**: Velocidad del viento en nudos o millas naúticas por hora [knots].\n",
    "- **Gusts**: Velocidad de ráfagas si las hubiere en nudos o millas naúticas por hora [knots].\n",
    "- **Relative_hum**: Humedad relativa en tanto por ciento [%].\n",
    "- **Pressure**: Presión atmosférica en hectopascales [hPa]."
   ]
  },
  {
   "cell_type": "code",
   "execution_count": 8,
   "id": "093ec51a",
   "metadata": {},
   "outputs": [],
   "source": [
    "import time\n",
    "import numpy as np\n",
    "import pylab as plt   \n",
    "import seaborn as sns\n",
    "import pandas as pd\n",
    "import re\n",
    "import sys\n",
    "sys.path.append('../src')\n",
    "from funmetar import *"
   ]
  },
  {
   "cell_type": "markdown",
   "id": "eefe6edd",
   "metadata": {},
   "source": [
    "## Se cargan y concatenan los datos de los meses de interés en el orden deseado"
   ]
  },
  {
   "cell_type": "code",
   "execution_count": 9,
   "id": "27ca748c",
   "metadata": {},
   "outputs": [],
   "source": [
    "met_oct_23 = pd.read_csv(\"../metar/metar_october_2023.csv\")\n",
    "met_sep_23 = pd.read_csv(\"../metar/metar_september_2023.csv\")\n",
    "met_aug_23 = pd.read_csv(\"../metar/metar_august_2023.csv\")\n",
    "met_jul_23 = pd.read_csv(\"../metar/metar_july_2023.csv\")\n",
    "met_jun_23 = pd.read_csv(\"../metar/metar_june_2023.csv\")\n",
    "met_may_23 = pd.read_csv(\"../metar/metar_may_2023.csv\")\n",
    "met_apr_23 = pd.read_csv(\"../metar/metar_april_2023.csv\")\n",
    "met_mar_23 = pd.read_csv(\"../metar/metar_march_2023.csv\")\n",
    "met_feb_23 = pd.read_csv(\"../metar/metar_february_2023.csv\")\n",
    "met_jan_23 = pd.read_csv(\"../metar/metar_january_2023.csv\")\n",
    "met_dec_22 = pd.read_csv(\"../metar/metar_december_2022.csv\")\n",
    "met_nov_22 = pd.read_csv(\"../metar/metar_november_2022.csv\")\n"
   ]
  },
  {
   "cell_type": "code",
   "execution_count": 10,
   "id": "37d4714a",
   "metadata": {},
   "outputs": [],
   "source": [
    "mt = pd.concat([met_oct_23,met_sep_23,met_aug_23,met_jul_23,met_jun_23,met_may_23,\n",
    "               met_apr_23,met_mar_23,met_feb_23,met_jan_23,met_dec_22,met_nov_22])"
   ]
  },
  {
   "cell_type": "code",
   "execution_count": 11,
   "id": "6862b0d7",
   "metadata": {},
   "outputs": [
    {
     "data": {
      "text/html": [
       "<div>\n",
       "<style scoped>\n",
       "    .dataframe tbody tr th:only-of-type {\n",
       "        vertical-align: middle;\n",
       "    }\n",
       "\n",
       "    .dataframe tbody tr th {\n",
       "        vertical-align: top;\n",
       "    }\n",
       "\n",
       "    .dataframe thead th {\n",
       "        text-align: right;\n",
       "    }\n",
       "</style>\n",
       "<table border=\"1\" class=\"dataframe\">\n",
       "  <thead>\n",
       "    <tr style=\"text-align: right;\">\n",
       "      <th></th>\n",
       "      <th>Day</th>\n",
       "      <th>Hour</th>\n",
       "      <th>Condition</th>\n",
       "      <th>Temperature</th>\n",
       "      <th>Wind</th>\n",
       "      <th>Relative_hum</th>\n",
       "      <th>Pressure</th>\n",
       "    </tr>\n",
       "  </thead>\n",
       "  <tbody>\n",
       "    <tr>\n",
       "      <th>0</th>\n",
       "      <td>Sunday 1 October 2023</td>\n",
       "      <td>00:00</td>\n",
       "      <td>Clear</td>\n",
       "      <td>20°</td>\n",
       "      <td>4</td>\n",
       "      <td>73%</td>\n",
       "      <td>1025 hPa</td>\n",
       "    </tr>\n",
       "    <tr>\n",
       "      <th>1</th>\n",
       "      <td>Sunday 1 October 2023</td>\n",
       "      <td>00:30</td>\n",
       "      <td>Clear</td>\n",
       "      <td>19°</td>\n",
       "      <td>6</td>\n",
       "      <td>78%</td>\n",
       "      <td>1025 hPa</td>\n",
       "    </tr>\n",
       "    <tr>\n",
       "      <th>2</th>\n",
       "      <td>Sunday 1 October 2023</td>\n",
       "      <td>01:00</td>\n",
       "      <td>Clear</td>\n",
       "      <td>19°</td>\n",
       "      <td>6</td>\n",
       "      <td>78%</td>\n",
       "      <td>1025 hPa</td>\n",
       "    </tr>\n",
       "    <tr>\n",
       "      <th>3</th>\n",
       "      <td>Sunday 1 October 2023</td>\n",
       "      <td>01:30</td>\n",
       "      <td>Clear</td>\n",
       "      <td>19°</td>\n",
       "      <td>6</td>\n",
       "      <td>73%</td>\n",
       "      <td>1025 hPa</td>\n",
       "    </tr>\n",
       "    <tr>\n",
       "      <th>4</th>\n",
       "      <td>Sunday 1 October 2023</td>\n",
       "      <td>02:00</td>\n",
       "      <td>Clear</td>\n",
       "      <td>18°</td>\n",
       "      <td>6</td>\n",
       "      <td>77%</td>\n",
       "      <td>1025 hPa</td>\n",
       "    </tr>\n",
       "  </tbody>\n",
       "</table>\n",
       "</div>"
      ],
      "text/plain": [
       "                     Day   Hour Condition Temperature Wind Relative_hum  \\\n",
       "0  Sunday 1 October 2023  00:00     Clear         20°    4          73%   \n",
       "1  Sunday 1 October 2023  00:30     Clear         19°    6          78%   \n",
       "2  Sunday 1 October 2023  01:00     Clear         19°    6          78%   \n",
       "3  Sunday 1 October 2023  01:30     Clear         19°    6          73%   \n",
       "4  Sunday 1 October 2023  02:00     Clear         18°    6          77%   \n",
       "\n",
       "   Pressure  \n",
       "0  1025 hPa  \n",
       "1  1025 hPa  \n",
       "2  1025 hPa  \n",
       "3  1025 hPa  \n",
       "4  1025 hPa  "
      ]
     },
     "execution_count": 11,
     "metadata": {},
     "output_type": "execute_result"
    }
   ],
   "source": [
    "mt.head()"
   ]
  },
  {
   "cell_type": "code",
   "execution_count": 12,
   "id": "3be6677c",
   "metadata": {},
   "outputs": [
    {
     "name": "stdout",
     "output_type": "stream",
     "text": [
      "<class 'pandas.core.frame.DataFrame'>\n",
      "Int64Index: 17722 entries, 0 to 1463\n",
      "Data columns (total 7 columns):\n",
      " #   Column        Non-Null Count  Dtype \n",
      "---  ------        --------------  ----- \n",
      " 0   Day           17722 non-null  object\n",
      " 1   Hour          17722 non-null  object\n",
      " 2   Condition     17722 non-null  object\n",
      " 3   Temperature   17722 non-null  object\n",
      " 4   Wind          17722 non-null  object\n",
      " 5   Relative_hum  17722 non-null  object\n",
      " 6   Pressure      17722 non-null  object\n",
      "dtypes: object(7)\n",
      "memory usage: 1.1+ MB\n"
     ]
    }
   ],
   "source": [
    "mt.info()"
   ]
  },
  {
   "cell_type": "code",
   "execution_count": 13,
   "id": "2e0fc668",
   "metadata": {},
   "outputs": [
    {
     "data": {
      "text/plain": [
       "(17722, 7)"
      ]
     },
     "execution_count": 13,
     "metadata": {},
     "output_type": "execute_result"
    }
   ],
   "source": [
    "mt.shape"
   ]
  },
  {
   "cell_type": "markdown",
   "id": "27da72c2",
   "metadata": {},
   "source": [
    "## Los valores de las ráfagas (cuando las hay) se encuentran desafortunadamente en la columna de \"Pressure\" tras la estracción.\n",
    "## Por ello se crea una función (<span style=\"color:blue\">generar_columna_gust</span>) que extraiga los valores en una nueva columna llamada \"Gusts\"."
   ]
  },
  {
   "cell_type": "code",
   "execution_count": 14,
   "id": "d511ba1a",
   "metadata": {},
   "outputs": [],
   "source": [
    "mt['gusts'] = mt['Pressure'].apply(generar_columna_gust)"
   ]
  },
  {
   "cell_type": "code",
   "execution_count": 15,
   "id": "98230ea2",
   "metadata": {},
   "outputs": [
    {
     "name": "stdout",
     "output_type": "stream",
     "text": [
      "Help on function generar_columna_gust in module funmetar:\n",
      "\n",
      "generar_columna_gust(valor)\n",
      "    Extrae los dos primeros dígitos seguidos de un espacio del valor de la columna pressure\n",
      "    ya que erroneamente los valores de ráfagas(gusts) cuando los hay se encuentran es esta columna.\n",
      "    \n",
      "    Parameters\n",
      "    ----------\n",
      "    valor : str\n",
      "        Cadena de entrada desde la cual se intentan extraer los dos primeros dígitos.\n",
      "    \n",
      "    Returns\n",
      "    -------\n",
      "    str or int\n",
      "        Si se encuentran dos dígitos seguidos de un espacio al principio de 'valor', se devuelve \n",
      "        la cadena que representa esos dos dígitos. De lo contrario, se devuelve 0.\n",
      "\n"
     ]
    }
   ],
   "source": [
    "help(generar_columna_gust)"
   ]
  },
  {
   "cell_type": "markdown",
   "id": "69c4a847",
   "metadata": {},
   "source": [
    "## La columna *Relative_hum* viene algo sucia tras la extracción ya que cuando en el registro hay ráfagas, en la columna aparece el símbolo \">\" y el valor de la humedad ha quedado desplazado a la siguiente columna.\n",
    "\n",
    "## Por ello, se crea una función (<span style=\"color:blue\">fix_hum_column</span>) que corrija la columna cuando sea necesario."
   ]
  },
  {
   "cell_type": "code",
   "execution_count": 16,
   "id": "2634ff1d",
   "metadata": {},
   "outputs": [],
   "source": [
    "mt['Relative_hum'] = mt.apply(fix_hum_column, axis=1)\n"
   ]
  },
  {
   "cell_type": "markdown",
   "id": "feb570bd",
   "metadata": {},
   "source": [
    "## En la columna *Pressure* nos quedamos únicamente con el valor numérico de la presión."
   ]
  },
  {
   "cell_type": "code",
   "execution_count": 17,
   "id": "60ed3a45",
   "metadata": {},
   "outputs": [],
   "source": [
    "mt['Pressure'] = mt['Pressure'].apply(lambda x: int(x[-8:-4]))"
   ]
  },
  {
   "cell_type": "markdown",
   "id": "1f98f3dd",
   "metadata": {},
   "source": [
    "## En la columna *Wind*, en ocasiones viene el dato numérico de la velocidad del viento y en otros caso el string *\"Calm\"*. Corregimos la columna para que en esos casos ponga *\"0\"*."
   ]
  },
  {
   "cell_type": "code",
   "execution_count": 18,
   "id": "481c4636",
   "metadata": {},
   "outputs": [],
   "source": [
    "mt['Wind'] = mt['Wind'].apply(lambda x: 0 if x==\"Calm\" else x)"
   ]
  },
  {
   "cell_type": "markdown",
   "id": "0c08b769",
   "metadata": {},
   "source": [
    "## Hacemos un cambio de variable a nudos en las columnas *\"Wind\"* y *\"gusts\"*."
   ]
  },
  {
   "cell_type": "code",
   "execution_count": 19,
   "id": "36053e21",
   "metadata": {},
   "outputs": [],
   "source": [
    "conversion = 1.852\n",
    "mt['Wind'] = mt['Wind'].apply(lambda x: int(round(float(x)/conversion,0)))\n",
    "mt['gusts'] = mt['gusts'].apply(lambda x: int(round(float(x)/conversion,0)))"
   ]
  },
  {
   "cell_type": "markdown",
   "id": "605e67f6",
   "metadata": {},
   "source": [
    "## En la columna *Temperature* nos quedamos únicamente con el valor numérico de la temperatura."
   ]
  },
  {
   "cell_type": "code",
   "execution_count": 20,
   "id": "4128869c",
   "metadata": {},
   "outputs": [],
   "source": [
    "mt['Temperature'] = mt['Temperature'].apply(lambda x: int(x[:-1]))"
   ]
  },
  {
   "cell_type": "markdown",
   "id": "1d986b5d",
   "metadata": {},
   "source": [
    "## Hay aún 5 registros (de más de 17000) en los que aún aparece el símbolo \">\" en la columna *Relative_hum* .  Se decide reemplazar el valor de estos registros por la moda de la columna."
   ]
  },
  {
   "cell_type": "code",
   "execution_count": 21,
   "id": "82df0822",
   "metadata": {},
   "outputs": [
    {
     "name": "stderr",
     "output_type": "stream",
     "text": [
      "C:\\Users\\daarr\\AppData\\Local\\Temp\\ipykernel_97920\\3997667125.py:1: SettingWithCopyWarning: \n",
      "A value is trying to be set on a copy of a slice from a DataFrame\n",
      "\n",
      "See the caveats in the documentation: https://pandas.pydata.org/pandas-docs/stable/user_guide/indexing.html#returning-a-view-versus-a-copy\n",
      "  mt[\"Relative_hum\"][mt.Relative_hum == \">\"] = mt['Relative_hum'].mode().iloc[0]\n"
     ]
    }
   ],
   "source": [
    "mt[\"Relative_hum\"][mt.Relative_hum == \">\"] = mt['Relative_hum'].mode().iloc[0]"
   ]
  },
  {
   "cell_type": "markdown",
   "id": "0d31878a",
   "metadata": {},
   "source": [
    "## En la columna *Relative_hum* nos quedamos únicamente con el valor numérico( en tanto por ciento) de la humedad."
   ]
  },
  {
   "cell_type": "code",
   "execution_count": 22,
   "id": "d7b4443e",
   "metadata": {},
   "outputs": [],
   "source": [
    "mt['Relative_hum'] = mt['Relative_hum'].apply(lambda x: int(x[:-1]) if x.endswith(\"%\") else int(x))"
   ]
  },
  {
   "cell_type": "code",
   "execution_count": 23,
   "id": "4ac9c77f",
   "metadata": {},
   "outputs": [
    {
     "name": "stdout",
     "output_type": "stream",
     "text": [
      "<class 'pandas.core.frame.DataFrame'>\n",
      "Int64Index: 17722 entries, 0 to 1463\n",
      "Data columns (total 8 columns):\n",
      " #   Column        Non-Null Count  Dtype \n",
      "---  ------        --------------  ----- \n",
      " 0   Day           17722 non-null  object\n",
      " 1   Hour          17722 non-null  object\n",
      " 2   Condition     17722 non-null  object\n",
      " 3   Temperature   17722 non-null  int64 \n",
      " 4   Wind          17722 non-null  int64 \n",
      " 5   Relative_hum  17722 non-null  int64 \n",
      " 6   Pressure      17722 non-null  int64 \n",
      " 7   gusts         17722 non-null  int64 \n",
      "dtypes: int64(5), object(3)\n",
      "memory usage: 1.2+ MB\n"
     ]
    }
   ],
   "source": [
    "mt.info()"
   ]
  },
  {
   "cell_type": "markdown",
   "id": "440c3e2b",
   "metadata": {},
   "source": [
    "## Convertimos a formato DateTime las columnas *\"Day\"* y *\"date_time\"* para poder tener posteriormente la tabla ordenada cronológicamente."
   ]
  },
  {
   "cell_type": "code",
   "execution_count": 24,
   "id": "014a5781",
   "metadata": {},
   "outputs": [],
   "source": [
    "mt['Day'] = pd.to_datetime(mt['Day'], format='%A %d %B %Y').dt.strftime('%Y-%m-%d')"
   ]
  },
  {
   "cell_type": "code",
   "execution_count": 25,
   "id": "e88c56a3",
   "metadata": {},
   "outputs": [],
   "source": [
    "mt['date_time'] = pd.to_datetime(mt['Day'] + ' ' + mt['Hour'])"
   ]
  },
  {
   "cell_type": "code",
   "execution_count": 26,
   "id": "46dedbc4",
   "metadata": {},
   "outputs": [
    {
     "data": {
      "text/html": [
       "<div>\n",
       "<style scoped>\n",
       "    .dataframe tbody tr th:only-of-type {\n",
       "        vertical-align: middle;\n",
       "    }\n",
       "\n",
       "    .dataframe tbody tr th {\n",
       "        vertical-align: top;\n",
       "    }\n",
       "\n",
       "    .dataframe thead th {\n",
       "        text-align: right;\n",
       "    }\n",
       "</style>\n",
       "<table border=\"1\" class=\"dataframe\">\n",
       "  <thead>\n",
       "    <tr style=\"text-align: right;\">\n",
       "      <th></th>\n",
       "      <th>Day</th>\n",
       "      <th>Hour</th>\n",
       "      <th>Condition</th>\n",
       "      <th>Temperature</th>\n",
       "      <th>Wind</th>\n",
       "      <th>Relative_hum</th>\n",
       "      <th>Pressure</th>\n",
       "      <th>gusts</th>\n",
       "      <th>date_time</th>\n",
       "    </tr>\n",
       "  </thead>\n",
       "  <tbody>\n",
       "    <tr>\n",
       "      <th>0</th>\n",
       "      <td>2023-10-01</td>\n",
       "      <td>00:00</td>\n",
       "      <td>Clear</td>\n",
       "      <td>20</td>\n",
       "      <td>2</td>\n",
       "      <td>73</td>\n",
       "      <td>1025</td>\n",
       "      <td>0</td>\n",
       "      <td>2023-10-01 00:00:00</td>\n",
       "    </tr>\n",
       "    <tr>\n",
       "      <th>1</th>\n",
       "      <td>2023-10-01</td>\n",
       "      <td>00:30</td>\n",
       "      <td>Clear</td>\n",
       "      <td>19</td>\n",
       "      <td>3</td>\n",
       "      <td>78</td>\n",
       "      <td>1025</td>\n",
       "      <td>0</td>\n",
       "      <td>2023-10-01 00:30:00</td>\n",
       "    </tr>\n",
       "    <tr>\n",
       "      <th>2</th>\n",
       "      <td>2023-10-01</td>\n",
       "      <td>01:00</td>\n",
       "      <td>Clear</td>\n",
       "      <td>19</td>\n",
       "      <td>3</td>\n",
       "      <td>78</td>\n",
       "      <td>1025</td>\n",
       "      <td>0</td>\n",
       "      <td>2023-10-01 01:00:00</td>\n",
       "    </tr>\n",
       "    <tr>\n",
       "      <th>3</th>\n",
       "      <td>2023-10-01</td>\n",
       "      <td>01:30</td>\n",
       "      <td>Clear</td>\n",
       "      <td>19</td>\n",
       "      <td>3</td>\n",
       "      <td>73</td>\n",
       "      <td>1025</td>\n",
       "      <td>0</td>\n",
       "      <td>2023-10-01 01:30:00</td>\n",
       "    </tr>\n",
       "    <tr>\n",
       "      <th>4</th>\n",
       "      <td>2023-10-01</td>\n",
       "      <td>02:00</td>\n",
       "      <td>Clear</td>\n",
       "      <td>18</td>\n",
       "      <td>3</td>\n",
       "      <td>77</td>\n",
       "      <td>1025</td>\n",
       "      <td>0</td>\n",
       "      <td>2023-10-01 02:00:00</td>\n",
       "    </tr>\n",
       "  </tbody>\n",
       "</table>\n",
       "</div>"
      ],
      "text/plain": [
       "          Day   Hour Condition  Temperature  Wind  Relative_hum  Pressure  \\\n",
       "0  2023-10-01  00:00     Clear           20     2            73      1025   \n",
       "1  2023-10-01  00:30     Clear           19     3            78      1025   \n",
       "2  2023-10-01  01:00     Clear           19     3            78      1025   \n",
       "3  2023-10-01  01:30     Clear           19     3            73      1025   \n",
       "4  2023-10-01  02:00     Clear           18     3            77      1025   \n",
       "\n",
       "   gusts           date_time  \n",
       "0      0 2023-10-01 00:00:00  \n",
       "1      0 2023-10-01 00:30:00  \n",
       "2      0 2023-10-01 01:00:00  \n",
       "3      0 2023-10-01 01:30:00  \n",
       "4      0 2023-10-01 02:00:00  "
      ]
     },
     "execution_count": 26,
     "metadata": {},
     "output_type": "execute_result"
    }
   ],
   "source": [
    "mt.head()"
   ]
  },
  {
   "cell_type": "code",
   "execution_count": 27,
   "id": "474ea357",
   "metadata": {},
   "outputs": [],
   "source": [
    "mt = mt.sort_values(by='date_time', ascending=False)\n",
    "mt = mt.reset_index(drop = True)"
   ]
  },
  {
   "cell_type": "code",
   "execution_count": 28,
   "id": "a193f146",
   "metadata": {},
   "outputs": [
    {
     "data": {
      "text/html": [
       "<div>\n",
       "<style scoped>\n",
       "    .dataframe tbody tr th:only-of-type {\n",
       "        vertical-align: middle;\n",
       "    }\n",
       "\n",
       "    .dataframe tbody tr th {\n",
       "        vertical-align: top;\n",
       "    }\n",
       "\n",
       "    .dataframe thead th {\n",
       "        text-align: right;\n",
       "    }\n",
       "</style>\n",
       "<table border=\"1\" class=\"dataframe\">\n",
       "  <thead>\n",
       "    <tr style=\"text-align: right;\">\n",
       "      <th></th>\n",
       "      <th>Day</th>\n",
       "      <th>Hour</th>\n",
       "      <th>Condition</th>\n",
       "      <th>Temperature</th>\n",
       "      <th>Wind</th>\n",
       "      <th>Relative_hum</th>\n",
       "      <th>Pressure</th>\n",
       "      <th>gusts</th>\n",
       "      <th>date_time</th>\n",
       "    </tr>\n",
       "  </thead>\n",
       "  <tbody>\n",
       "  </tbody>\n",
       "</table>\n",
       "</div>"
      ],
      "text/plain": [
       "Empty DataFrame\n",
       "Columns: [Day, Hour, Condition, Temperature, Wind, Relative_hum, Pressure, gusts, date_time]\n",
       "Index: []"
      ]
     },
     "execution_count": 28,
     "metadata": {},
     "output_type": "execute_result"
    }
   ],
   "source": [
    "mt[mt.duplicated()]"
   ]
  },
  {
   "cell_type": "markdown",
   "id": "e1cdc965",
   "metadata": {},
   "source": [
    "## Añadimos un *id* a cada registro, reordenamos las columnas de la tabla y corregimos algunos de sus nombres."
   ]
  },
  {
   "cell_type": "code",
   "execution_count": 29,
   "id": "fe8bccce",
   "metadata": {},
   "outputs": [],
   "source": [
    "mt['Metar_id'] = range(1, len(mt) + 1)"
   ]
  },
  {
   "cell_type": "code",
   "execution_count": 30,
   "id": "65806ec0",
   "metadata": {},
   "outputs": [],
   "source": [
    "reorder = [\"Metar_id\",\"date_time\",\"Day\",\"Hour\",\"Condition\",\"Temperature\",\"Wind\",\"gusts\",\"Relative_hum\",\"Pressure\"]\n",
    "mt = mt[reorder]"
   ]
  },
  {
   "cell_type": "code",
   "execution_count": 31,
   "id": "27cab86a",
   "metadata": {},
   "outputs": [],
   "source": [
    "mt = mt.rename(columns ={'gusts':'Gusts', 'date_time':'Date_time'})"
   ]
  },
  {
   "cell_type": "code",
   "execution_count": 32,
   "id": "350a43a5",
   "metadata": {},
   "outputs": [
    {
     "data": {
      "text/html": [
       "<div>\n",
       "<style scoped>\n",
       "    .dataframe tbody tr th:only-of-type {\n",
       "        vertical-align: middle;\n",
       "    }\n",
       "\n",
       "    .dataframe tbody tr th {\n",
       "        vertical-align: top;\n",
       "    }\n",
       "\n",
       "    .dataframe thead th {\n",
       "        text-align: right;\n",
       "    }\n",
       "</style>\n",
       "<table border=\"1\" class=\"dataframe\">\n",
       "  <thead>\n",
       "    <tr style=\"text-align: right;\">\n",
       "      <th></th>\n",
       "      <th>Metar_id</th>\n",
       "      <th>Date_time</th>\n",
       "      <th>Day</th>\n",
       "      <th>Hour</th>\n",
       "      <th>Condition</th>\n",
       "      <th>Temperature</th>\n",
       "      <th>Wind</th>\n",
       "      <th>Gusts</th>\n",
       "      <th>Relative_hum</th>\n",
       "      <th>Pressure</th>\n",
       "    </tr>\n",
       "  </thead>\n",
       "  <tbody>\n",
       "    <tr>\n",
       "      <th>0</th>\n",
       "      <td>1</td>\n",
       "      <td>2023-10-31 23:30:00</td>\n",
       "      <td>2023-10-31</td>\n",
       "      <td>23:30</td>\n",
       "      <td>Fair</td>\n",
       "      <td>8</td>\n",
       "      <td>3</td>\n",
       "      <td>0</td>\n",
       "      <td>93</td>\n",
       "      <td>1017</td>\n",
       "    </tr>\n",
       "    <tr>\n",
       "      <th>1</th>\n",
       "      <td>2</td>\n",
       "      <td>2023-10-31 23:00:00</td>\n",
       "      <td>2023-10-31</td>\n",
       "      <td>23:00</td>\n",
       "      <td>Fair</td>\n",
       "      <td>8</td>\n",
       "      <td>1</td>\n",
       "      <td>0</td>\n",
       "      <td>87</td>\n",
       "      <td>1017</td>\n",
       "    </tr>\n",
       "    <tr>\n",
       "      <th>2</th>\n",
       "      <td>3</td>\n",
       "      <td>2023-10-31 22:30:00</td>\n",
       "      <td>2023-10-31</td>\n",
       "      <td>22:30</td>\n",
       "      <td>Fair</td>\n",
       "      <td>8</td>\n",
       "      <td>0</td>\n",
       "      <td>0</td>\n",
       "      <td>93</td>\n",
       "      <td>1017</td>\n",
       "    </tr>\n",
       "    <tr>\n",
       "      <th>3</th>\n",
       "      <td>4</td>\n",
       "      <td>2023-10-31 22:00:00</td>\n",
       "      <td>2023-10-31</td>\n",
       "      <td>22:00</td>\n",
       "      <td>Clear</td>\n",
       "      <td>8</td>\n",
       "      <td>0</td>\n",
       "      <td>0</td>\n",
       "      <td>93</td>\n",
       "      <td>1017</td>\n",
       "    </tr>\n",
       "    <tr>\n",
       "      <th>4</th>\n",
       "      <td>5</td>\n",
       "      <td>2023-10-31 21:30:00</td>\n",
       "      <td>2023-10-31</td>\n",
       "      <td>21:30</td>\n",
       "      <td>Clear</td>\n",
       "      <td>8</td>\n",
       "      <td>0</td>\n",
       "      <td>0</td>\n",
       "      <td>93</td>\n",
       "      <td>1017</td>\n",
       "    </tr>\n",
       "  </tbody>\n",
       "</table>\n",
       "</div>"
      ],
      "text/plain": [
       "   Metar_id           Date_time         Day   Hour Condition  Temperature  \\\n",
       "0         1 2023-10-31 23:30:00  2023-10-31  23:30      Fair            8   \n",
       "1         2 2023-10-31 23:00:00  2023-10-31  23:00      Fair            8   \n",
       "2         3 2023-10-31 22:30:00  2023-10-31  22:30      Fair            8   \n",
       "3         4 2023-10-31 22:00:00  2023-10-31  22:00     Clear            8   \n",
       "4         5 2023-10-31 21:30:00  2023-10-31  21:30     Clear            8   \n",
       "\n",
       "   Wind  Gusts  Relative_hum  Pressure  \n",
       "0     3      0            93      1017  \n",
       "1     1      0            87      1017  \n",
       "2     0      0            93      1017  \n",
       "3     0      0            93      1017  \n",
       "4     0      0            93      1017  "
      ]
     },
     "execution_count": 32,
     "metadata": {},
     "output_type": "execute_result"
    }
   ],
   "source": [
    "mt.head()"
   ]
  },
  {
   "cell_type": "markdown",
   "id": "8bbcd598",
   "metadata": {},
   "source": [
    "## Exportamos los datos limpios en formato *csv* y *parquet*."
   ]
  },
  {
   "cell_type": "code",
   "execution_count": 33,
   "id": "fc7db690",
   "metadata": {},
   "outputs": [],
   "source": [
    "mt.to_csv(\"../metar/metars.csv\", index=False)"
   ]
  },
  {
   "cell_type": "code",
   "execution_count": 34,
   "id": "2b86a45f",
   "metadata": {},
   "outputs": [],
   "source": [
    "mt.to_parquet('../metar/metar.gz', compression='gzip', index = False)"
   ]
  }
 ],
 "metadata": {
  "kernelspec": {
   "display_name": "clase",
   "language": "python",
   "name": "clase"
  },
  "language_info": {
   "codemirror_mode": {
    "name": "ipython",
    "version": 3
   },
   "file_extension": ".py",
   "mimetype": "text/x-python",
   "name": "python",
   "nbconvert_exporter": "python",
   "pygments_lexer": "ipython3",
   "version": "3.11.4"
  }
 },
 "nbformat": 4,
 "nbformat_minor": 5
}
